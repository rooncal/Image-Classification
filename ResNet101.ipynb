{
  "nbformat": 4,
  "nbformat_minor": 0,
  "metadata": {
    "colab": {
      "name": "ResNet101.ipynb",
      "provenance": [],
      "collapsed_sections": [],
      "authorship_tag": "ABX9TyM+2ASh2VMadiUdsR2LNQhL",
      "include_colab_link": true
    },
    "kernelspec": {
      "name": "python3",
      "display_name": "Python 3"
    },
    "language_info": {
      "name": "python"
    },
    "accelerator": "GPU"
  },
  "cells": [
    {
      "cell_type": "markdown",
      "metadata": {
        "id": "view-in-github",
        "colab_type": "text"
      },
      "source": [
        "<a href=\"https://colab.research.google.com/github/rooncal/Image-Classification/blob/main/ResNet101.ipynb\" target=\"_parent\"><img src=\"https://colab.research.google.com/assets/colab-badge.svg\" alt=\"Open In Colab\"/></a>"
      ]
    },
    {
      "cell_type": "markdown",
      "metadata": {
        "id": "oB1x9ZxEZZPw"
      },
      "source": [
        "#Importing libraries"
      ]
    },
    {
      "cell_type": "code",
      "metadata": {
        "id": "CO-bfaiMXK0p"
      },
      "source": [
        "import torch\n",
        "import torch.nn as nn\n",
        "import torch.optim as optim\n",
        "from torch.utils.data import DataLoader\n",
        "from torch.utils.data import sampler\n",
        "\n",
        "import torchvision.datasets as dset\n",
        "import torchvision.transforms as T\n",
        "\n",
        "from functools import reduce\n",
        "import numpy as np\n",
        "\n",
        "import sys\n",
        "from google.colab import drive"
      ],
      "execution_count": 1,
      "outputs": []
    },
    {
      "cell_type": "markdown",
      "metadata": {
        "id": "t4UqOW8cZeY6"
      },
      "source": [
        "# Downloading dataset"
      ]
    },
    {
      "cell_type": "code",
      "metadata": {
        "colab": {
          "base_uri": "https://localhost:8080/"
        },
        "id": "WFwYpQdFXO65",
        "outputId": "2f41dce5-0d23-448f-f9d6-3271a1252dfc"
      },
      "source": [
        "drive.mount('/content/drive', force_remount=True)\n",
        "\n",
        "%cd drive/My\\ Drive/assignment2/cs231n/datasets/\n",
        "!bash get_datasets.sh\n",
        "%cd /content\n",
        "\n",
        "NUM_TRAIN = 49000\n",
        "\n",
        "transform = T.Compose([\n",
        "                T.ToTensor(),\n",
        "                T.Normalize((0.4914, 0.4822, 0.4465), (0.2023, 0.1994, 0.2010))\n",
        "            ])\n",
        "\n",
        "\n",
        "cifar10_train = dset.CIFAR10('./cs231n/datasets', train=True, download=True,\n",
        "                             transform=transform)\n",
        "\n",
        "loader_train = DataLoader(cifar10_train, batch_size=64, \n",
        "                          sampler=sampler.SubsetRandomSampler(range(NUM_TRAIN)))\n",
        "\n",
        "cifar10_val = dset.CIFAR10('./cs231n/datasets', train=True, download=True,\n",
        "                           transform=transform)\n",
        "loader_val = DataLoader(cifar10_val, batch_size=64, \n",
        "                        sampler=sampler.SubsetRandomSampler(range(NUM_TRAIN, 50000)))\n",
        "\n",
        "cifar10_test = dset.CIFAR10('./cs231n/datasets', train=False, download=True, \n",
        "                            transform=transform)\n",
        "loader_test = DataLoader(cifar10_test, batch_size=64)"
      ],
      "execution_count": 2,
      "outputs": [
        {
          "output_type": "stream",
          "text": [
            "Mounted at /content/drive\n",
            "/content/drive/My Drive/assignment2/cs231n/datasets\n",
            "/content\n",
            "Files already downloaded and verified\n",
            "Files already downloaded and verified\n",
            "Files already downloaded and verified\n"
          ],
          "name": "stdout"
        }
      ]
    },
    {
      "cell_type": "markdown",
      "metadata": {
        "id": "PXtX7MIWZjDF"
      },
      "source": [
        "## Defining device type as GPU"
      ]
    },
    {
      "cell_type": "code",
      "metadata": {
        "id": "RbYyVCMQY-xX"
      },
      "source": [
        "device = torch.device('cuda')"
      ],
      "execution_count": 2,
      "outputs": []
    },
    {
      "cell_type": "markdown",
      "metadata": {
        "id": "4jhLoAlqaBk3"
      },
      "source": [
        "#The Model"
      ]
    },
    {
      "cell_type": "markdown",
      "metadata": {
        "id": "MEHMGO_QaDCw"
      },
      "source": [
        "###Defining a class for a residual block"
      ]
    },
    {
      "cell_type": "code",
      "metadata": {
        "id": "TDaGgRhUZWTO"
      },
      "source": [
        "class ResidualBlock(nn.Module):\n",
        "  def __init__(self, in_channels, middle_channels, out_channels, stride=1, padding=1):\n",
        "    super().__init__()\n",
        "    self.conv1 = nn.Conv2d(in_channels=in_channels,out_channels=middle_channels,kernel_size=1,stride=stride)\n",
        "    self.conv2 = nn.Conv2d(in_channels=middle_channels,out_channels=middle_channels,kernel_size=3,stride=1, padding=padding)\n",
        "    self.conv3 = nn.Conv2d(in_channels=middle_channels,out_channels=out_channels,kernel_size=1,stride=1)\n",
        "    self.shortcut = (lambda y:y)\n",
        "    if in_channels is not out_channels:\n",
        "      self.shortcut = nn.Conv2d(in_channels=in_channels,out_channels=out_channels,kernel_size=1,stride=stride)\n",
        "      \n",
        "      \n",
        "\n",
        "  def forward(self, x):\n",
        "    temp = x\n",
        "    x = self.conv1(x)\n",
        "    x = nn.BatchNorm2d(x.size(1))(x)\n",
        "    x = nn.ReLU()(x)\n",
        "    x = self.conv2(x)\n",
        "    x = nn.BatchNorm2d(x.size(1))(x)\n",
        "    x = nn.ReLU()(x)\n",
        "    x = self.conv3(x)\n",
        "    x = nn.BatchNorm2d(x.size(1))(x)\n",
        "    x = nn.ReLU()(x)\n",
        "    x += self.shortcut(temp)\n",
        "    return x"
      ],
      "execution_count": 2,
      "outputs": []
    },
    {
      "cell_type": "code",
      "metadata": {
        "id": "ieD2JFH8mDWU"
      },
      "source": [
        "class ResNet101(nn.Module):\n",
        "  def forward(self, x):\n",
        "    x = nn.Conv2d(in_channels=3,out_channels=64,kernel_size=7,stride=2,padding=3)(x)\n",
        "    x = nn.MaxPool2d(kernel_size=3,stride=2)(x)\n",
        "\n",
        "    x = ResidualBlock(in_channels=64, middle_channels=64, out_channels=256)(x)\n",
        "    x = ResidualBlock(in_channels=256, middle_channels=64, out_channels=256)(x)\n",
        "    x = ResidualBlock(in_channels=256, middle_channels=64, out_channels=256)(x)\n",
        "\n",
        "    x = ResidualBlock(in_channels=256, middle_channels=128, out_channels=512,stride=2,)(x)\n",
        "    x = ResidualBlock(in_channels=512, middle_channels=128, out_channels=512)(x)\n",
        "    x = ResidualBlock(in_channels=512, middle_channels=128, out_channels=512)(x)\n",
        "    x = ResidualBlock(in_channels=512, middle_channels=128, out_channels=512)(x)\n",
        "\n",
        "    x = ResidualBlock(in_channels=512, middle_channels=256, out_channels=1024, stride=2)(x)\n",
        "    x = ResidualBlock(in_channels=1024, middle_channels=256, out_channels=1024)(x)\n",
        "    x = ResidualBlock(in_channels=1024, middle_channels=256, out_channels=1024)(x)\n",
        "    x = ResidualBlock(in_channels=1024, middle_channels=256, out_channels=1024)(x)\n",
        "    x = ResidualBlock(in_channels=1024, middle_channels=256, out_channels=1024)(x)\n",
        "    x = ResidualBlock(in_channels=1024, middle_channels=256, out_channels=1024)(x)\n",
        "    x = ResidualBlock(in_channels=1024, middle_channels=256, out_channels=1024)(x)\n",
        "    x = ResidualBlock(in_channels=1024, middle_channels=256, out_channels=1024)(x)\n",
        "    x = ResidualBlock(in_channels=1024, middle_channels=256, out_channels=1024)(x)\n",
        "    x = ResidualBlock(in_channels=1024, middle_channels=256, out_channels=1024)(x)\n",
        "    x = ResidualBlock(in_channels=1024, middle_channels=256, out_channels=1024)(x)\n",
        "    x = ResidualBlock(in_channels=1024, middle_channels=256, out_channels=1024)(x)\n",
        "    x = ResidualBlock(in_channels=1024, middle_channels=256, out_channels=1024)(x)\n",
        "    x = ResidualBlock(in_channels=1024, middle_channels=256, out_channels=1024)(x)\n",
        "    x = ResidualBlock(in_channels=1024, middle_channels=256, out_channels=1024)(x)\n",
        "    x = ResidualBlock(in_channels=1024, middle_channels=256, out_channels=1024)(x)\n",
        "    x = ResidualBlock(in_channels=1024, middle_channels=256, out_channels=1024)(x)\n",
        "    x = ResidualBlock(in_channels=1024, middle_channels=256, out_channels=1024)(x)\n",
        "    x = ResidualBlock(in_channels=1024, middle_channels=256, out_channels=1024)(x)\n",
        "    x = ResidualBlock(in_channels=1024, middle_channels=256, out_channels=1024)(x)\n",
        "    x = ResidualBlock(in_channels=1024, middle_channels=256, out_channels=1024)(x)\n",
        "    x = ResidualBlock(in_channels=1024, middle_channels=256, out_channels=1024)(x)\n",
        "    x = ResidualBlock(in_channels=1024, middle_channels=256, out_channels=1024)(x)\n",
        "\n",
        "    x = ResidualBlock(in_channels=1024, middle_channels=512, out_channels=2048, stride=2)(x)\n",
        "    x = ResidualBlock(in_channels=2048, middle_channels=512, out_channels=2048)(x)\n",
        "    x = ResidualBlock(in_channels=2048, middle_channels=512, out_channels=2048)(x)\n",
        "    \n",
        "    x = nn.Flatten()(x)\n",
        "    x = torch.mean(x,1)\n",
        "    x = nn.Linear(in_features=16,out_features=10)(x)\n",
        "    x = nn.Softmax()(x)\n",
        "    return x"
      ],
      "execution_count": 6,
      "outputs": []
    },
    {
      "cell_type": "code",
      "metadata": {
        "id": "1RbDOBG7orE7",
        "colab": {
          "base_uri": "https://localhost:8080/"
        },
        "outputId": "7ec496bf-2558-4816-b09a-68e279d267b3"
      },
      "source": [
        "x = torch.zeros((16, 3, 256, 256), dtype=torch.float32)\n",
        "scores = model(x)\n",
        "print(scores.size())  "
      ],
      "execution_count": 7,
      "outputs": [
        {
          "output_type": "stream",
          "text": [
            "torch.Size([16, 131072])\n",
            "torch.Size([16])\n",
            "torch.Size([10])\n"
          ],
          "name": "stdout"
        },
        {
          "output_type": "stream",
          "text": [
            "/usr/local/lib/python3.7/dist-packages/ipykernel_launcher.py:48: UserWarning: Implicit dimension choice for softmax has been deprecated. Change the call to include dim=X as an argument.\n"
          ],
          "name": "stderr"
        }
      ]
    },
    {
      "cell_type": "code",
      "metadata": {
        "id": "LtaQ_sKLKf8B"
      },
      "source": [
        ""
      ],
      "execution_count": null,
      "outputs": []
    }
  ]
}